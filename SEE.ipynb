{
 "cells": [
  {
   "cell_type": "markdown",
   "metadata": {},
   "source": [
    "# Single Effect Evaporation Modeling\n",
    "\n",
    "This is a mathermatical modeling for a single effect evaporation process based \n",
    "on equations given in the book written by H. El-Dessouky and H. Ettouney 'salt fundamentals'\n",
    "\n",
    "Created by: Ahmad Alsaad and Hassan Baagil\n",
    "\n",
    "Date: 28/7/2017\n",
    "\n",
    "model variables\n",
    "1-Mf  feed flowrate \n",
    "2-Mcw coolant flowrate\n",
    "3-Mb  brine flowrate\n",
    "4-Md  distillate flowrate\n",
    "5-Xf  feed salt fraction\n",
    "6-Xb  brine salt fraction\n",
    "7-Qe  evaporator thermal load\n",
    "8-feedCp # feed specific heat\n",
    "9-Tb  boiling temperature\n",
    "10-Tf  feed temperature\n",
    "11-Ts  steam temperature\n",
    "12-VLH   Vapor Latent Heat\n",
    "13-Ms   steam flowrate\n",
    "14-SLH Steam Latent Heat\n",
    "15-Qc  condenser thermal load\n",
    "16-Tcw   temperature of coolant\n",
    "17-Tfcw  average temp of Tcw and Tf\n",
    "18-BPE   boiling point elevation\n",
    "19-Ae   evaporator surface area \n",
    "20-Ac   condenser surface area\n",
    "21-Ue   overall evaporator heat transfer coefficient\n",
    "22-Uc   overall condenser heat transfer coefficient\n",
    "23-hi   convective heat transfer coefficient inside tubes\n",
    "24-ho   convective heat transfer coefficient outside tubes\n",
    "25-ri   tube internal radius\n",
    "26-ro   tube external radius\n",
    "27-Rfi   internal fouling resistance\n",
    "28-Rfo   external fouling resistance\n",
    "29-kw    conductive heat transfer coefficient\n",
    "30-LMTD  log mean temperature difference\n",
    "\n",
    "equations:\n",
    "\n",
    "1-Mf-Md-Mb=0\n",
    "2-Mf*Xf-Mb*Xb=0\n",
    "3-Qe-Mf*feedCp*(Tb-Tf)-Md*VLH=0\n",
    "4-Qe-Ms*VLH=0\n",
    "5-Ms-Mb*brineCp(Tb-Tcw)-MdCp(Tv-Tcw)-McwCp(Tf-Tcw)=0\n",
    "6-Tb-Tv-BPE=0\n",
    "7-Qe-Ae*Ue(Ts-Tb)=0\n",
    "8-1/Ue-1/hi*(ro/ri)-Rf*ro/ri-ro*ln(ro/ri)/kw-Rfo-1/ho=0\n",
    "9-Qc-Ac*Uc*LMTD=0\n",
    "10-LMTD-(Tf-Tcw)/ln((Td-Tcw)/(Td-Tf))=0\n",
    "\n",
    "3 examples:\n",
    "\n",
    "1-Boiling point temperature known ==> direct calculation\n",
    "\n",
    "2-Evaporator thermal load is given ==> iterative procedure \n",
    "\n",
    "3-Existing system heat transfer area is known\n",
    "\n"
   ]
  },
  {
   "cell_type": "markdown",
   "metadata": {
    "collapsed": true
   },
   "source": [
    "<img src=\"img/see.png\" width=\"80%\" height=\"80%\">"
   ]
  },
  {
   "cell_type": "code",
   "execution_count": null,
   "metadata": {},
   "outputs": [],
   "source": []
  }
 ],
 "metadata": {
  "kernelspec": {
   "display_name": "Python 2",
   "language": "python",
   "name": "python2"
  },
  "language_info": {
   "codemirror_mode": {
    "name": "ipython",
    "version": 2
   },
   "file_extension": ".py",
   "mimetype": "text/x-python",
   "name": "python",
   "nbconvert_exporter": "python",
   "pygments_lexer": "ipython2",
   "version": "2.7.9"
  }
 },
 "nbformat": 4,
 "nbformat_minor": 2
}
