{
 "cells": [
  {
   "cell_type": "markdown",
   "metadata": {},
   "source": [
    "<img src=\"img/see.jpg\">"
   ]
  },
  {
   "cell_type": "code",
   "execution_count": 2,
   "metadata": {},
   "outputs": [
    {
     "data": {
      "text/plain": [
       "'This is a mathermatical modeling for a single effect evaporation process based \\non the equations given in the book of salt fundamentals\\nAuthers: Ahmad Alsaad and Hassan Baagil\\nDate: 28/72017\\n\\nmodel variables\\nMf  # feed flowrate \\nMcw # coolant flowrate\\nMb  # brine flowrate\\nMd  # distillate flowrate\\nXf  # feed salt fraction\\nXb  # brine salt fraction\\nQe  # evaporator thermal load\\nfeedCp # feed specific heat\\nTb # boiling temperature\\nTf # feed temperature\\nTs # steam temperature\\nVLH  # Vapor Latent Heat\\nMs  # steam flowrate\\nSLH #Steam Latent Heat\\nQc  #condenser thermal load\\nTcw  # temperature of coolant\\nTfcw # average temp of Tcw and Tf\\nBPE  # boiling point elevation\\nAe  # evaporator surface area \\nAc  # condenser surface area\\nUe  # overall evaporator heat transfer coefficient\\nUc  # overall condenser heat transfer coefficient\\nhi  # convective heat transfer coefficient inside tubes\\nho  # convective heat transfer coefficient outside tubes\\nri  # tube internal radius\\nro  # tube external radius\\nRfi  # internal fouling resistance\\nRfo  # external fouling resistance\\nkw   # conductive heat transfer coefficient\\n\\n'"
      ]
     },
     "execution_count": 2,
     "metadata": {},
     "output_type": "execute_result"
    }
   ],
   "source": [
    "'''This is a mathermatical modeling for a single effect evaporation process based \n",
    "on the equations given in the book of salt fundamentals\n",
    "Authers: Ahmad Alsaad and Hassan Baagil\n",
    "Date: 28/72017\n",
    "\n",
    "model variables\n",
    "1-Mf  # feed flowrate \n",
    "2-Mcw # coolant flowrate\n",
    "3-Mb  # brine flowrate\n",
    "4-Md  # distillate flowrate\n",
    "5-Xf  # feed salt fraction\n",
    "6-Xb  # brine salt fraction\n",
    "7-Qe  # evaporator thermal load\n",
    "8-feedCp # feed specific heat\n",
    "9-Tb # boiling temperature\n",
    "10-Tf # feed temperature\n",
    "11-Ts # steam temperature\n",
    "12-VLH  # Vapor Latent Heat\n",
    "13-Ms  # steam flowrate\n",
    "14-SLH #Steam Latent Heat\n",
    "15-Qc  #condenser thermal load\n",
    "16-Tcw  # temperature of coolant\n",
    "17-Tfcw # average temp of Tcw and Tf\n",
    "18-BPE  # boiling point elevation\n",
    "19-Ae  # evaporator surface area \n",
    "20-Ac  # condenser surface area\n",
    "21-Ue  # overall evaporator heat transfer coefficient\n",
    "22-Uc  # overall condenser heat transfer coefficient\n",
    "23-hi  # convective heat transfer coefficient inside tubes\n",
    "24-ho  # convective heat transfer coefficient outside tubes\n",
    "25-ri  # tube internal radius\n",
    "26-ro  # tube external radius\n",
    "27-Rfi  # internal fouling resistance\n",
    "28-Rfo  # external fouling resistance\n",
    "29-kw   # conductive heat transfer coefficient\n",
    "30-LMTD # log mean temperature difference\n",
    "\n",
    "equations:\n",
    "\n",
    "1-Mf-Md-Mb=0\n",
    "2-Mf*Xf-Mb*Xb=0\n",
    "3-Qe-Mf*feedCp*(Tb-Tf)-Md*VLH=0\n",
    "4-Qe-Ms*VLH=0\n",
    "5-Ms-Mb*brineCp(Tb-Tcw)-MdCp(Tv-Tcw)-McwCp(Tf-Tcw)=0\n",
    "6-Tb-Tv-BPE=0\n",
    "7-Qe-Ae*Ue(Ts-Tb)=0\n",
    "8-1/Ue-1/hi*(ro/ri)-Rf*ro/ri-ro*ln(ro/ri)/kw-Rfo-1/ho=0\n",
    "9-Qc-Ac*Uc*LMTD=0\n",
    "10-LMTD-(Tf-Tcw)/ln((Td-Tcw)/(Td-Tf))=0\n",
    "\n",
    "\n",
    "\n",
    "\n",
    "'''"
   ]
  },
  {
   "cell_type": "code",
   "execution_count": null,
   "metadata": {},
   "outputs": [],
   "source": []
  }
 ],
 "metadata": {
  "kernelspec": {
   "display_name": "Python 3",
   "language": "python",
   "name": "python3"
  },
  "language_info": {
   "codemirror_mode": {
    "name": "ipython",
    "version": 3
   },
   "file_extension": ".py",
   "mimetype": "text/x-python",
   "name": "python",
   "nbconvert_exporter": "python",
   "pygments_lexer": "ipython3",
   "version": "3.6.1"
  }
 },
 "nbformat": 4,
 "nbformat_minor": 2
}
