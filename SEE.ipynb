{
 "cells": [
  {
   "cell_type": "markdown",
   "metadata": {},
   "source": [
    "# Single Effect Evaporation Modeling\n",
    "\n",
    "This is a mathermatical modeling for a single effect evaporation process based \n",
    "on equations given in the book written by H. El-Dessouky and H. Ettouney 'fundamentals of salt water desalination'\n",
    "\n",
    "Created by: Ahmad Alsaad and Hassan Baagil\n",
    "\n",
    "Date: 28/7/2017\n",
    "\n",
    "model variables:\n",
    "1. Mf &nbsp; &nbsp; &nbsp; flowrate \n",
    "\n",
    "2. Mcw &nbsp; &nbsp; &nbsp;coolant flowrate\n",
    "\n",
    "3. Mb  &nbsp; &nbsp; &nbsp;brine flowrate\n",
    "\n",
    "4. Md  &nbsp; &nbsp; &nbsp;distillate flowrate\n",
    "\n",
    "5. Xf  &nbsp; &nbsp; &nbsp;feed salt fraction\n",
    "\n",
    "6. Xb  &nbsp; &nbsp; &nbsp;brine salt fraction\n",
    "\n",
    "7. Qe  &nbsp; &nbsp; &nbsp;evaporator thermal load\n",
    "\n",
    "8. feedCp &nbsp; &nbsp; &nbsp;# feed specific heat\n",
    "\n",
    "9. Tb  &nbsp; &nbsp; &nbsp;boiling temperature\n",
    "\n",
    "10. Tf  &nbsp; &nbsp; &nbsp;feed temperature\n",
    "\n",
    "11. Ts  &nbsp; &nbsp; &nbsp;steam temperature\n",
    "\n",
    "12. VLH   &nbsp; &nbsp; &nbsp;Vapor Latent Heat\n",
    "\n",
    "13. Ms   &nbsp; &nbsp; &nbsp;steam flowrate\n",
    "\n",
    "14. SLH &nbsp; &nbsp; &nbsp;Steam Latent Heat\n",
    "\n",
    "15. Qc  &nbsp; &nbsp; &nbsp;condenser thermal load\n",
    "\n",
    "16. Tcw   &nbsp; &nbsp; &nbsp;temperature of coolant\n",
    "\n",
    "17. Tfcw  average temp of Tcw and Tf\n",
    "\n",
    "18. BPE   &nbsp; &nbsp; &nbsp;boiling point elevation\n",
    "\n",
    "19. Ae   &nbsp; &nbsp; &nbsp;evaporator surface area \n",
    "\n",
    "20. Ac   &nbsp; &nbsp; &nbsp;condenser surface area\n",
    "\n",
    "21. Ue   &nbsp; &nbsp; &nbsp;overall evaporator heat transfer coefficient\n",
    "\n",
    "22. Uc   &nbsp; &nbsp; &nbsp;overall condenser heat transfer coefficient\n",
    "\n",
    "23. hi   &nbsp; &nbsp; &nbsp;convective heat transfer coefficient inside tubes\n",
    "\n",
    "24. ho   &nbsp; &nbsp; &nbsp;convective heat transfer coefficient outside tubes\n",
    "\n",
    "25. ri   &nbsp; &nbsp; &nbsp;tube internal radius\n",
    "\n",
    "26. ro   &nbsp; &nbsp; &nbsp;tube external radius\n",
    "\n",
    "27. Rfi  &nbsp; &nbsp; &nbsp; internal fouling resistance\n",
    "\n",
    "28. Rfo   &nbsp; &nbsp; &nbsp;external fouling resistance\n",
    "\n",
    "29. kw    &nbsp; &nbsp; &nbsp;conductive heat transfer coefficient\n",
    "\n",
    "30. LMTD  &nbsp; &nbsp; &nbsp;log mean temperature difference\n",
    "\n",
    "equations:\n",
    "\n",
    "1. &nbsp; &nbsp; &nbsp;Mf-Md-Mb=0\n",
    "\n",
    "2. &nbsp; &nbsp; &nbsp;Mf*Xf-Mb*Xb=0\n",
    "\n",
    "3. &nbsp; &nbsp; &nbsp;Qe-Mf*feedCp*(Tb-Tf)-Md*VLH=0\n",
    "\n",
    "4. &nbsp; &nbsp; &nbsp;Qe-Ms*VLH=0\n",
    "\n",
    "5. &nbsp; &nbsp; &nbsp;Ms-Mb*brineCp(Tb-Tcw)-MdCp(Tv-Tcw)-McwCp(Tf-Tcw)=0\n",
    "\n",
    "6. &nbsp; &nbsp; &nbsp;Tb-Tv-BPE=0\n",
    "\n",
    "7. &nbsp; &nbsp; &nbsp;Qe-Ae*Ue(Ts-Tb)=0\n",
    "\n",
    "8. &nbsp; &nbsp; &nbsp;1/Ue-1/hi*(ro/ri)-Rf*ro/ri-ro*ln(ro/ri)/kw-Rfo-1/ho=0\n",
    "\n",
    "9. &nbsp; &nbsp; &nbsp;Qc-Ac*Uc*LMTD=0\n",
    "\n",
    "10. &nbsp; &nbsp; &nbsp;LMTD-(Tf-Tcw)/ln((Td-Tcw)/(Td-Tf))=0\n",
    "\n",
    "3 examples:\n",
    "\n",
    "1. &nbsp; &nbsp; &nbsp;Boiling point temperature known ==> direct calculation\n",
    "\n",
    "2. &nbsp; &nbsp; &nbsp;Evaporator thermal load is given ==> iterative procedure \n",
    "\n",
    "3. &nbsp; &nbsp; &nbsp;Existing system heat transfer area is known\n",
    "\n"
   ]
  },
  {
   "cell_type": "markdown",
   "metadata": {
    "collapsed": true
   },
   "source": [
    "<img src=\"img/see.png\" width=\"80%\" height=\"80%\">"
   ]
  },
  {
   "cell_type": "code",
   "execution_count": 1,
   "metadata": {
    "collapsed": false
   },
   "outputs": [],
   "source": [
    "import swp\n",
    "import matplotlib.pyplot as plt"
   ]
  },
  {
   "cell_type": "code",
   "execution_count": null,
   "metadata": {
    "collapsed": true
   },
   "outputs": [],
   "source": [
    "# given\n",
    "Md=1       # kg/s\n",
    "Tcw=25     # C\n",
    "Tf=70      # C\n",
    "Tb=75      # C \n",
    "Ts=82      # C\n",
    "Xb=7       # wt%\n",
    "\n",
    "# Solution\n"
   ]
  }
 ],
 "metadata": {
  "kernelspec": {
   "display_name": "Python 2",
   "language": "python",
   "name": "python2"
  },
  "language_info": {
   "codemirror_mode": {
    "name": "ipython",
    "version": 2
   },
   "file_extension": ".py",
   "mimetype": "text/x-python",
   "name": "python",
   "nbconvert_exporter": "python",
   "pygments_lexer": "ipython2",
   "version": "2.7.10"
  }
 },
 "nbformat": 4,
 "nbformat_minor": 2
}
